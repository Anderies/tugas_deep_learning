{
  "nbformat": 4,
  "nbformat_minor": 0,
  "metadata": {
    "colab": {
      "name": "ResultAkurasiModelTugasDL.ipynb",
      "provenance": []
    },
    "kernelspec": {
      "name": "python3",
      "display_name": "Python 3"
    },
    "language_info": {
      "name": "python"
    },
    "accelerator": "GPU"
  },
  "cells": [
    {
      "cell_type": "code",
      "metadata": {
        "colab": {
          "base_uri": "https://localhost:8080/"
        },
        "id": "I3h01JCdTJon",
        "outputId": "3257eecb-d009-4620-df2a-512e35615c0b"
      },
      "source": [
        "from __future__ import print_function, division\n",
        "from glob import glob\n",
        "import torch\n",
        "import torch.nn as nn\n",
        "import torch.optim as optim\n",
        "from torch.optim import lr_scheduler\n",
        "import numpy as np\n",
        "import torchvision\n",
        "from torchvision import datasets, models, transforms\n",
        "import matplotlib.pyplot as plt\n",
        "import time\n",
        "import os\n",
        "\n",
        "import copy\n",
        "\n",
        "plt.ion()   # interactive mode\n",
        "os.environ['CUDA_LAUNCH_BLOCKING'] = \"1\"\n",
        "\n",
        "!pip install efficientnet_pytorch"
      ],
      "execution_count": 1,
      "outputs": [
        {
          "output_type": "stream",
          "text": [
            "Requirement already satisfied: efficientnet_pytorch in /usr/local/lib/python3.7/dist-packages (0.7.0)\n",
            "Requirement already satisfied: torch in /usr/local/lib/python3.7/dist-packages (from efficientnet_pytorch) (1.8.1+cu101)\n",
            "Requirement already satisfied: numpy in /usr/local/lib/python3.7/dist-packages (from torch->efficientnet_pytorch) (1.19.5)\n",
            "Requirement already satisfied: typing-extensions in /usr/local/lib/python3.7/dist-packages (from torch->efficientnet_pytorch) (3.7.4.3)\n"
          ],
          "name": "stdout"
        }
      ]
    },
    {
      "cell_type": "code",
      "metadata": {
        "id": "VA1dax7QS8U7"
      },
      "source": [
        "data_transforms = {\n",
        "    'Train': transforms.Compose([\n",
        "                                 transforms.RandomResizedCrop(224),\n",
        "                                 transforms.RandomHorizontalFlip(),\n",
        "                                 transforms.ToTensor(),\n",
        "                                 transforms.Normalize([0.485, 0.456, 0.406], [0.229, 0.224, 0.225])\n",
        "                                 ]),\n",
        "    'Validation': transforms.Compose([\n",
        "                              transforms.Resize(256),\n",
        "                              transforms.CenterCrop(224),\n",
        "                              transforms.ToTensor(),\n",
        "                              transforms.Normalize([0.485, 0.456, 0.406], [0.229, 0.224, 0.225])\n",
        "                              ]),\n",
        "    'Testing': transforms.Compose([\n",
        "        transforms.RandomResizedCrop(224),\n",
        "        transforms.RandomHorizontalFlip(),\n",
        "        transforms.ToTensor(),\n",
        "        transforms.Normalize([0.485, 0.456, 0.406], [0.229, 0.224, 0.225])\n",
        "    ])\n",
        "}\n",
        "\n",
        "# data_dir  = 'drive/MyDrive/MyThesis/hymenoptera_data/*'\n",
        "data_dir = 'drive/MyDrive/MyThesis/oxford/Master'\n",
        "\n",
        "image_datasets = {x: datasets.ImageFolder(os.path.join(data_dir, x),\n",
        "                                          data_transforms[x])\n",
        "                  for x in ['Train', 'Validation','Testing']}\n",
        "\n",
        "dataloaders = {x: torch.utils.data.DataLoader(image_datasets[x], batch_size=4,\n",
        "                                             shuffle=True, num_workers=2)\n",
        "              for x in ['Train', 'Validation','Testing']}\n",
        "\n",
        "dataset_sizes = {x: len(image_datasets[x]) for x in ['Train', 'Validation','Testing']}\n",
        "\n",
        "class_names = image_datasets['Train'].classes\n",
        "\n",
        "device = torch.device(\"cuda:0\" if torch.cuda.is_available() else \"cpu\")"
      ],
      "execution_count": 2,
      "outputs": []
    },
    {
      "cell_type": "code",
      "metadata": {
        "id": "RKMchtMoTnag"
      },
      "source": [
        "net = torch.load('drive/MyDrive/MyThesis/resnet50oxford.model')\n",
        "net2 = torch.load('drive/MyDrive/MyThesis/efb750oxford.model')\n",
        "\n",
        "net.to(device)\n",
        "net2.to(device)"
      ],
      "execution_count": null,
      "outputs": []
    },
    {
      "cell_type": "code",
      "metadata": {
        "id": "VJrsR80jUJ_B"
      },
      "source": [
        "class_correct = list(0. for i in range(37))\n",
        "class_total = list(0. for i in range(37))\n",
        "\n",
        "def onebyoneacc(net):\n",
        "    hasil = []\n",
        "    array_sorting = []\n",
        "    with torch.no_grad():\n",
        "        for data in dataloaders['Testing']:\n",
        "            images, labels = data\n",
        "            images = images.to(device)\n",
        "            labels = labels.to(device)\n",
        "\n",
        "            outputs = net(images)\n",
        "            _, predicted = torch.max(outputs, 1)\n",
        "            c = (predicted == labels).squeeze()\n",
        "            for i in range(2):\n",
        "              # print(i)\n",
        "              # print(labels[i])\n",
        "              label = labels[i]\n",
        "              class_correct[label] += c[i].item()\n",
        "              class_total[label] += 1\n",
        "\n",
        "   \n",
        "    for i in range(37):\n",
        "        mantul = (100 * class_correct[i] / class_total[i])\n",
        "        array_sorting.append({\"class\": class_names[i], \"akurasi\": round(mantul,2)})\n",
        "        # print(f'Akurasi dari {class_names[i]}: {round(mantul,2)}')\n",
        "        # print('Accuracy of %5s : %2d %%' % (class_names[i], 100 * class_correct[i] / class_total[i]))\n",
        "    return array_sorting"
      ],
      "execution_count": 4,
      "outputs": []
    },
    {
      "cell_type": "code",
      "metadata": {
        "id": "7espa4iqUWVa"
      },
      "source": [
        "result_1 = onebyoneacc(net)\n",
        "result_1.sort(key = lambda json: json['akurasi'], reverse=True)\n",
        "\n",
        "result_2 = onebyoneacc(net2)\n",
        "result_2.sort(key = lambda json: json['akurasi'], reverse=True)\n"
      ],
      "execution_count": 16,
      "outputs": []
    },
    {
      "cell_type": "code",
      "metadata": {
        "colab": {
          "base_uri": "https://localhost:8080/"
        },
        "id": "glf5oaw1Uxlh",
        "outputId": "a9b59739-5cad-47ac-b8d8-8ab9431da295"
      },
      "source": [
        "# importing pandas as pd \n",
        "import pandas as pd \n",
        "df_1 = pd.DataFrame(result_1)\n",
        "print(\"=======================================\")\n",
        "print(\"                ResNet50\")\n",
        "print(\"=======================================\")\n",
        "print(df_1)"
      ],
      "execution_count": 22,
      "outputs": [
        {
          "output_type": "stream",
          "text": [
            "=======================================\n",
            "                ResNet50\n",
            "=======================================\n",
            "                         class  akurasi\n",
            "0                       Sphynx   100.00\n",
            "1                       bombay   100.00\n",
            "2                      siamese   100.00\n",
            "3            yorkshire_terrier   100.00\n",
            "4               great_pyrenees    96.00\n",
            "5                japanese_chin    95.83\n",
            "6                   pomeranian    95.24\n",
            "7                    chihuahua    92.59\n",
            "8                 egyptian_mau    92.31\n",
            "9           miniature_pinscher    91.67\n",
            "10                newfoundland    91.30\n",
            "11                         pug    91.30\n",
            "12                basset_hound    91.18\n",
            "13                    keeshond    90.00\n",
            "14                     persian    89.47\n",
            "15          german_shorthaired    88.00\n",
            "16                  leonberger    86.96\n",
            "17            american_bulldog    84.62\n",
            "18               saint_bernard    84.62\n",
            "19  staffordshire_bull_terrier    84.62\n",
            "20                  Abyssinian    82.14\n",
            "21                Russian_Blue    82.14\n",
            "22                     samoyed    82.14\n",
            "23           british_shorthair    81.82\n",
            "24            scottish_terrier    81.48\n",
            "25             wheaten_terrier    81.25\n",
            "26                      bengal    79.31\n",
            "27                  maine_coon    78.79\n",
            "28            american_pitbull    76.92\n",
            "29                      birman    76.92\n",
            "30              english_setter    76.00\n",
            "31                       boxer    75.00\n",
            "32      english_cocker_spaniel    74.19\n",
            "33                   shiba_inu    74.07\n",
            "34                    havanese    70.37\n",
            "35                      beagle    69.57\n",
            "36                     ragdoll    57.89\n"
          ],
          "name": "stdout"
        }
      ]
    },
    {
      "cell_type": "code",
      "metadata": {
        "colab": {
          "base_uri": "https://localhost:8080/"
        },
        "id": "Bq_S8SmtVTu7",
        "outputId": "6cea50d7-0ff6-412a-d2c5-f2cf7d2f2f2c"
      },
      "source": [
        "# importing pandas as pd \n",
        "import pandas as pd \n",
        "df_2 = pd.DataFrame(result_2)\n",
        "print(\"=======================================\")\n",
        "print(\"           EfficienNet-b7\")\n",
        "print(\"=======================================\")\n",
        "print(df_2)"
      ],
      "execution_count": 19,
      "outputs": [
        {
          "output_type": "stream",
          "text": [
            "=======================================\n",
            "           EfficienNet-b7\n",
            "=======================================\n",
            "                         class  akurasi\n",
            "0                      siamese   100.00\n",
            "1            yorkshire_terrier   100.00\n",
            "2                       Sphynx    97.06\n",
            "3                 egyptian_mau    94.59\n",
            "4                       bombay    93.94\n",
            "5                 newfoundland    93.94\n",
            "6           miniature_pinscher    93.55\n",
            "7               great_pyrenees    93.33\n",
            "8                          pug    93.10\n",
            "9                 basset_hound    92.86\n",
            "10                   chihuahua    91.67\n",
            "11               japanese_chin    90.91\n",
            "12                  leonberger    90.91\n",
            "13          german_shorthaired    90.62\n",
            "14                  pomeranian    90.00\n",
            "15                    keeshond    88.89\n",
            "16  staffordshire_bull_terrier    88.57\n",
            "17                     persian    88.00\n",
            "18           british_shorthair    87.50\n",
            "19                     samoyed    87.50\n",
            "20                  Abyssinian    86.11\n",
            "21            scottish_terrier    86.11\n",
            "22                Russian_Blue    83.78\n",
            "23            american_bulldog    83.78\n",
            "24               saint_bernard    83.78\n",
            "25             wheaten_terrier    82.50\n",
            "26              english_setter    81.82\n",
            "27                      bengal    81.08\n",
            "28      english_cocker_spaniel    80.49\n",
            "29                      beagle    77.42\n",
            "30                       boxer    75.68\n",
            "31                   shiba_inu    75.68\n",
            "32                  maine_coon    75.56\n",
            "33                      birman    74.29\n",
            "34            american_pitbull    74.19\n",
            "35                     ragdoll    71.43\n",
            "36                    havanese    69.70\n"
          ],
          "name": "stdout"
        }
      ]
    }
  ]
}